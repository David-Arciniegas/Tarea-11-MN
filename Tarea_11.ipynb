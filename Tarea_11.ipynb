{
  "nbformat": 4,
  "nbformat_minor": 0,
  "metadata": {
    "colab": {
      "provenance": [],
      "authorship_tag": "ABX9TyO29IRRPeSfZW/frxaso0Ca",
      "include_colab_link": true
    },
    "kernelspec": {
      "name": "python3",
      "display_name": "Python 3"
    },
    "language_info": {
      "name": "python"
    }
  },
  "cells": [
    {
      "cell_type": "markdown",
      "metadata": {
        "id": "view-in-github",
        "colab_type": "text"
      },
      "source": [
        "<a href=\"https://colab.research.google.com/github/David-Arciniegas/Tarea-11-MN/blob/main/Tarea_11.ipynb\" target=\"_parent\"><img src=\"https://colab.research.google.com/assets/colab-badge.svg\" alt=\"Open In Colab\"/></a>"
      ]
    },
    {
      "cell_type": "code",
      "execution_count": 16,
      "metadata": {
        "id": "vb6hx5yiYiuX"
      },
      "outputs": [],
      "source": [
        "import numpy as np\n",
        "\n",
        "def gauss_jacobi(A, b, tol=1e-3, max_iter=100):\n",
        "    n = len(b)\n",
        "    x = np.zeros(n)\n",
        "    x_new = np.zeros(n)\n",
        "\n",
        "    for iteration in range(max_iter):\n",
        "        for i in range(n):\n",
        "            s = sum(A[i][j] * x[j] for j in range(n) if j != i)\n",
        "            x_new[i] = (b[i] - s) / A[i][i]\n",
        "\n",
        "        # Check for convergence\n",
        "        if np.linalg.norm(x_new - x, ord=np.inf) < tol:\n",
        "            print(f\"convergencia despues de {iteration+1} iteraciones\")\n",
        "            return x_new\n",
        "\n",
        "        x = x_new.copy()\n",
        "\n",
        "    print(\"iteraciones maximas antes de obtener una convergencia\")\n",
        "    return x\n",
        "\n",
        "# Ejemplo de uso:\n",
        "# A = np.array([[3, -1, 1], [3, 6, 2], [3, 3, 7]])\n",
        "# b = np.array([1, 0, 4])\n",
        "# x = gauss_jacobi(A, b, tol=1e-3, max_iter=2)\n",
        "# print(x)\n"
      ]
    },
    {
      "cell_type": "code",
      "source": [
        "#Ejercicio de la pregunta 1\n",
        "# Ejercicio a\n",
        "A = np.array([[3, -1, 1], [3, 6, 2], [3, 3, 7]])\n",
        "b = np.array([1, 0, 4])\n",
        "x = gauss_jacobi(A, b, tol=1e-3, max_iter= 20)\n",
        "print(x)\n",
        "\n",
        "# Ejercicio b\n",
        "A = np.array([[10, -1, 0], [-1, 10, -2], [0, -2, 10]])\n",
        "b = np.array([9, 7, 6])\n",
        "x = gauss_jacobi(A, b, tol=1e-3, max_iter= 20)\n",
        "print(x)\n",
        "\n",
        "# Ejercicio c\n",
        "A = np.array([[10, 5, 0, 0], [5, 10, -4, 0], [0, -4, 8, -1], [0, 0, -1, 5]])\n",
        "b = np.array([6, 25, -11, -11])\n",
        "x = gauss_jacobi(A, b, tol=1e-3, max_iter= 40)\n",
        "print(x)\n",
        "\n",
        "# Ejercicio d\n",
        "A = np.array([[4, 1, 1, 0, 1], [-1, -3, 1, 1, 0], [2, 1, 5, -1, -1], [-1, -1, -1, 4, 0], [0, 2, -1, 1, 4]])\n",
        "b = np.array([6, 6, 6, 6, 6])\n",
        "x = gauss_jacobi(A, b, tol=1e-3, max_iter= 50)\n",
        "print(x)"
      ],
      "metadata": {
        "id": "tCufKwJbjTJt",
        "colab": {
          "base_uri": "https://localhost:8080/"
        },
        "outputId": "26d14f6a-81dc-476b-ee4d-4dcb40e68cb6"
      },
      "execution_count": 20,
      "outputs": [
        {
          "output_type": "stream",
          "name": "stdout",
          "text": [
            "convergencia despues de 9 iteraciones\n",
            "[ 0.03510079 -0.23663751  0.65812732]\n",
            "convergencia despues de 6 iteraciones\n",
            "[0.995725 0.957775 0.79145 ]\n",
            "convergencia despues de 21 iteraciones\n",
            "[-0.79710581  2.79517067 -0.25939578 -2.25179299]\n",
            "convergencia despues de 12 iteraciones\n",
            "[ 0.78708833 -1.00303576  1.86604817  1.91244923  1.98957067]\n"
          ]
        }
      ]
    },
    {
      "cell_type": "code",
      "source": [
        "def gauss_seidel(A, b, tol=1e-6, max_iter=100):\n",
        "    n = len(b)\n",
        "    x = np.zeros(n)\n",
        "\n",
        "    for iteration in range(max_iter):\n",
        "        x_new = np.copy(x)\n",
        "\n",
        "        for i in range(n):\n",
        "            s1 = sum(A[i][j] * x_new[j] for j in range(i))\n",
        "            s2 = sum(A[i][j] * x[j] for j in range(i + 1, n))\n",
        "            x_new[i] = (b[i] - s1 - s2) / A[i][i]\n",
        "\n",
        "        # Check for convergence\n",
        "        if np.linalg.norm(x_new - x, ord=np.inf) < tol:\n",
        "            print(f\"convergencia despues de {iteration+1} iteraciones\")\n",
        "            return x_new\n",
        "\n",
        "        x = x_new\n",
        "\n",
        "    print(\"iteraciones maximas sin convergencia\")\n",
        "    return x\n",
        "\n",
        "# Ejemplo de uso:\n",
        "# A = np.array([[3, -1, 1], [3, 6, 2], [3, 3, 7]])\n",
        "# b = np.array([1, 0, 4])\n",
        "# x = gauss_seidel(A, b, tol=1e-3, max_iter=2)\n",
        "# print(x)\n"
      ],
      "metadata": {
        "id": "D-DmBmnHjSAO"
      },
      "execution_count": 50,
      "outputs": []
    },
    {
      "cell_type": "code",
      "source": [
        "#Ejercicio de la pregunta 1\n",
        "# Ejercicio a\n",
        "A = np.array([[3, -1, 1], [3, 6, 2], [3, 3, 7]])\n",
        "b = np.array([1, 0, 4])\n",
        "x = gauss_seidel(A, b, tol=1e-6, max_iter= 20)\n",
        "print(x)\n",
        "\n",
        "# Ejercicio b\n",
        "A = np.array([[10, -1, 0], [-1, 10, -2], [0, -2, 10]])\n",
        "b = np.array([9, 7, 6])\n",
        "x = gauss_seidel(A, b, tol=1e-6, max_iter= 20)\n",
        "print(x)\n",
        "\n",
        "# Ejercicio c\n",
        "A = np.array([[10, 5, 0, 0], [5, 10, -4, 0], [0, -4, 8, -1], [0, 0, -1, 5]])\n",
        "b = np.array([6, 25, -11, -11])\n",
        "x = gauss_seidel(A, b, tol=1e-6, max_iter= 30)\n",
        "print(x)\n",
        "\n",
        "# Ejercicio d\n",
        "A = np.array([[4, 1, 1, 0, 1], [-1, -3, 1, 1, 0], [2, 1, 5, -1, -1], [-1, -1, -1, 4, 0], [0, 2, -1, 1, 4]])\n",
        "b = np.array([6, 6, 6, 6, 6])\n",
        "x = gauss_seidel(A, b, tol=1e-6, max_iter= 20)\n",
        "print(x)"
      ],
      "metadata": {
        "id": "a1hxVaH2jTuc",
        "colab": {
          "base_uri": "https://localhost:8080/"
        },
        "outputId": "33926f5b-6952-4387-ee0c-a2775a06b7f2"
      },
      "execution_count": 21,
      "outputs": [
        {
          "output_type": "stream",
          "name": "stdout",
          "text": [
            "convergencia despues de 11 iteraciones\n",
            "[ 0.03508794 -0.23684206  0.65789462]\n",
            "convergencia despues de 7 iteraciones\n",
            "[0.99578947 0.95789473 0.79157895]\n",
            "convergencia despues de 18 iteraciones\n",
            "[-0.79764636  2.79529348 -0.25882387 -2.25176477]\n",
            "convergencia despues de 12 iteraciones\n",
            "[ 0.78663237 -1.0025707   1.86632389  1.91259639  1.98971722]\n"
          ]
        }
      ]
    },
    {
      "cell_type": "code",
      "source": [
        "# Ejercicio 5\n",
        "A = np.array([[2, -1, 1], [2, 2, 2], [-1, -1, 2]])\n",
        "b = np.array([-1, 4, -5])\n",
        "x = gauss_jacobi(A, b, tol=1e-3, max_iter= 1000)\n",
        "print(x)\n",
        "\n",
        "x = gauss_seidel(A, b, tol=1e-5, max_iter= 30)\n",
        "print(x)"
      ],
      "metadata": {
        "colab": {
          "base_uri": "https://localhost:8080/"
        },
        "id": "RzwGYlH7B7Zw",
        "outputId": "7f39d348-4ebf-4724-87a3-5483d950784f"
      },
      "execution_count": 33,
      "outputs": [
        {
          "output_type": "stream",
          "name": "stdout",
          "text": [
            "iteraciones maximas antes de obtener una convergencia\n",
            "[-1.71063658e+48 -6.84254632e+48  1.71063658e+48]\n",
            "convergencia despues de 23 iteraciones\n",
            "[ 1.00000226  1.9999975  -1.00000012]\n"
          ]
        }
      ]
    },
    {
      "cell_type": "code",
      "source": [
        "#diagonal estrictamente dominante\n",
        "def DED(matriz):\n",
        "    n = matriz.shape[0]\n",
        "    for i in range(n):\n",
        "        suma_fila = sum(abs(matriz[i, j]) for j in range(n) if j != i)\n",
        "        if abs(matriz[i, i]) <= suma_fila:\n",
        "            return False, i+1\n",
        "    return True, None"
      ],
      "metadata": {
        "id": "vtQPAM6iH7tp"
      },
      "execution_count": 37,
      "outputs": []
    },
    {
      "cell_type": "code",
      "source": [
        "# Ejercicio 6\n",
        "A = np.array([[1, 0, -1], [-1/2, 1, -1/4], [1, -1/2, 1]])\n",
        "b = np.array([0.2, -1.425, 2])\n"
      ],
      "metadata": {
        "id": "6UKf7RQWHIDP"
      },
      "execution_count": 45,
      "outputs": []
    },
    {
      "cell_type": "code",
      "source": [
        "result, fila = DED(A)\n",
        "\n",
        "if result:\n",
        "    print(\"es diagonal estrictamente dominante.\")\n",
        "else:\n",
        "    print(f\"no es diagonal estrictamente dominante en la fila {fila}\")"
      ],
      "metadata": {
        "colab": {
          "base_uri": "https://localhost:8080/"
        },
        "id": "K_NxknPrIG9U",
        "outputId": "e28b5b80-ed2c-4f70-ae6c-e67cf67679b7"
      },
      "execution_count": 39,
      "outputs": [
        {
          "output_type": "stream",
          "name": "stdout",
          "text": [
            "no es diagonal estrictamente dominante en la fila 1\n"
          ]
        }
      ]
    },
    {
      "cell_type": "code",
      "source": [
        "x = gauss_seidel(A, b, tol=1e22, max_iter= 300)\n",
        "print(x)"
      ],
      "metadata": {
        "colab": {
          "base_uri": "https://localhost:8080/"
        },
        "id": "wN84ZUDVJKBH",
        "outputId": "7668ff1e-bf91-4e20-fa8f-4f1747580ac6"
      },
      "execution_count": 44,
      "outputs": [
        {
          "output_type": "stream",
          "name": "stdout",
          "text": [
            "convergencia despues de 1 iteraciones\n",
            "[ 0.2    -1.325   1.1375]\n"
          ]
        }
      ]
    },
    {
      "cell_type": "code",
      "source": [
        "# Ejercicio 7\n",
        "x = gauss_jacobi(A, b, tol=1e22, max_iter= 300)\n",
        "print(x)"
      ],
      "metadata": {
        "colab": {
          "base_uri": "https://localhost:8080/"
        },
        "id": "HXExclwnKm50",
        "outputId": "fa274864-0759-421a-f094-61861c87ff4d"
      },
      "execution_count": 49,
      "outputs": [
        {
          "output_type": "stream",
          "name": "stdout",
          "text": [
            "convergencia despues de 1 iteraciones\n",
            "[ 0.2   -1.425  2.   ]\n"
          ]
        }
      ]
    },
    {
      "cell_type": "code",
      "source": [
        "# Ejercicio 8\n",
        "A = np.array([\n",
        "    [4, -1, 0, 0, -1, 0, 0, 0, 0, 0, 0, 0],[-1, 4, -1, 0, 0, 0, 0, 0, 0, 0, 0, 0],[0, -1, 4, -1, 0, 0, 0, 0, 0, 0, 0, 0],[0, 0, -1, 4, 0, 0, -1, 0, 0, 0, 0, 0],[-1, 0, 0, 0, 4, -1, 0, 0, 0, 0, 0, 0],[0, 0, 0, 0, -1, 4, 0, 0, -1, 0, 0, 0],[0, 0, 0, -1, 0, 0, 4, -1, 0, 0, 0, 0],\n",
        "    [0, 0, 0, 0, 0, 0, -1, 4, -1, 0, 0, 0],[0, 0, 0, 0, 0, -1, 0, -1, 4, 0, 0, -1],[0, 0, 0, 0, 0, 0, 0, 0, 0, 4, -1, 0],[0, 0, 0, 0, 0, 0, 0, 0, 0, -1, 4, -1],[0, 0, 0, 0, 0, 0, 0, 0, -1, 0, -1, 4]\n",
        "])\n",
        "b = np.array([220, 110, 110, 220, 110, 110, 110, 110, 220, 110, 110, 220])\n"
      ],
      "metadata": {
        "id": "hnaZIOvRNV5C"
      },
      "execution_count": 51,
      "outputs": []
    },
    {
      "cell_type": "code",
      "source": [
        "result, fila = DED(A)\n",
        "\n",
        "if result:\n",
        "    print(\"es diagonal estrictamente dominante.\")\n",
        "else:\n",
        "    print(f\"no es diagonal estrictamente dominante en la fila {fila}\")"
      ],
      "metadata": {
        "colab": {
          "base_uri": "https://localhost:8080/"
        },
        "id": "ctUvbyt9NzTd",
        "outputId": "0c29807f-91ef-4e11-e157-acd5ca67b7f5"
      },
      "execution_count": 52,
      "outputs": [
        {
          "output_type": "stream",
          "name": "stdout",
          "text": [
            "es diagonal estrictamente dominante.\n"
          ]
        }
      ]
    },
    {
      "cell_type": "code",
      "source": [
        "x = gauss_jacobi(A, b, tol=1e-2, max_iter= 100)\n",
        "print(x)\n",
        "\n",
        "x = gauss_seidel(A, b, tol=1e-2, max_iter= 100)\n",
        "print(x)"
      ],
      "metadata": {
        "colab": {
          "base_uri": "https://localhost:8080/"
        },
        "id": "tHE8fX3YN3wU",
        "outputId": "53c5219e-9218-4b61-9da7-ea538db77bb8"
      },
      "execution_count": 53,
      "outputs": [
        {
          "output_type": "stream",
          "name": "stdout",
          "text": [
            "convergencia despues de 15 iteraciones\n",
            "[ 88.56189051  66.18473877  66.18473877  88.56189051  68.07105926\n",
            "  73.73321353  68.07105926  73.73321353 116.87473866  43.33541929\n",
            "  63.34492734 100.05204068]\n",
            "convergencia despues de 10 iteraciones\n",
            "[ 88.56398155  66.18712394  66.18754444  88.56541646  68.07550445\n",
            "  73.73968709  68.0759504   73.73979858 116.88434376  43.33707837\n",
            "  63.34874193 100.05827142]\n"
          ]
        }
      ]
    }
  ]
}